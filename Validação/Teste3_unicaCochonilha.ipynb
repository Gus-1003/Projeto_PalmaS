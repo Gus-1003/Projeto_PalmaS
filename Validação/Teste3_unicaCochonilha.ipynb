{
  "nbformat": 4,
  "nbformat_minor": 0,
  "metadata": {
    "colab": {
      "name": "Teste3 - unicaCochonilha.ipynb",
      "provenance": [],
      "toc_visible": true,
      "include_colab_link": true
    },
    "kernelspec": {
      "name": "python3",
      "display_name": "Python 3"
    },
    "language_info": {
      "name": "python"
    }
  },
  "cells": [
    {
      "cell_type": "markdown",
      "metadata": {
        "id": "view-in-github",
        "colab_type": "text"
      },
      "source": [
        "<a href=\"https://colab.research.google.com/github/Gus-1003/Projeto_PalmaS/blob/main/Valida%C3%A7%C3%A3o/Teste3_unicaCochonilha.ipynb\" target=\"_parent\"><img src=\"https://colab.research.google.com/assets/colab-badge.svg\" alt=\"Open In Colab\"/></a>"
      ]
    },
    {
      "cell_type": "markdown",
      "source": [
        "# Validação - Implementação do algoritmo do teste 3:\n",
        "\n",
        "- Imagem U1-3_Foco"
      ],
      "metadata": {
        "id": "W2ChOBJchqvk"
      }
    },
    {
      "cell_type": "markdown",
      "source": [
        "## Importando Bibliotecas:"
      ],
      "metadata": {
        "id": "7hz_yfjqh0zq"
      }
    },
    {
      "cell_type": "code",
      "execution_count": 1,
      "metadata": {
        "id": "AEhdBtYDfAGN"
      },
      "outputs": [],
      "source": [
        "import cv2 as cv\n",
        "from google.colab.patches import cv2_imshow\n",
        "import numpy as np\n",
        "import matplotlib.pyplot as plt\n",
        "\n",
        "import pandas as pd\n",
        "from sklearn.cluster import KMeans"
      ]
    },
    {
      "cell_type": "code",
      "source": [
        "from google.colab import drive\n",
        "drive.mount('/content/drive')"
      ],
      "metadata": {
        "colab": {
          "base_uri": "https://localhost:8080/"
        },
        "id": "U1SSb1wyjQQ0",
        "outputId": "10d7ceaf-8afe-4741-b580-51b60ed072b5"
      },
      "execution_count": 2,
      "outputs": [
        {
          "output_type": "stream",
          "name": "stdout",
          "text": [
            "Drive already mounted at /content/drive; to attempt to forcibly remount, call drive.mount(\"/content/drive\", force_remount=True).\n"
          ]
        }
      ]
    },
    {
      "cell_type": "markdown",
      "source": [
        "## Lendo Imagem:"
      ],
      "metadata": {
        "id": "zuNRwvQdh42n"
      }
    },
    {
      "cell_type": "code",
      "source": [
        "file = '/content/drive/MyDrive/Colab Notebooks/Bolsa/Unico1/U1-3_foco.png'\n",
        "\n",
        "im = cv.imread(file)"
      ],
      "metadata": {
        "id": "R_xCtIZ-h7xN"
      },
      "execution_count": 3,
      "outputs": []
    },
    {
      "cell_type": "markdown",
      "source": [
        "## Análise da Imagem Trabalhada:"
      ],
      "metadata": {
        "id": "3sAUDJFgcGyB"
      }
    },
    {
      "cell_type": "markdown",
      "source": [
        "### Visualizando imagem original:"
      ],
      "metadata": {
        "id": "f7AVuAs8Iopv"
      }
    },
    {
      "cell_type": "code",
      "source": [
        "#cv2_imshow(im)"
      ],
      "metadata": {
        "id": "CE-BWklmInl4"
      },
      "execution_count": 4,
      "outputs": []
    },
    {
      "cell_type": "markdown",
      "source": [
        "### Estudo das dimenssões:"
      ],
      "metadata": {
        "id": "3b6-_in2Iw4P"
      }
    },
    {
      "cell_type": "code",
      "source": [
        "# Instrução para descobrir o tamanho da dimensão da imagem (Linhas x Colunas)\n",
        "print('Dim:' + str(im.shape))"
      ],
      "metadata": {
        "colab": {
          "base_uri": "https://localhost:8080/"
        },
        "id": "MSHT7BRLiDrZ",
        "outputId": "5822690f-07f3-45cd-8f38-b4ed4cac9f52"
      },
      "execution_count": 5,
      "outputs": [
        {
          "output_type": "stream",
          "name": "stdout",
          "text": [
            "Dim:(85, 127, 3)\n"
          ]
        }
      ]
    },
    {
      "cell_type": "markdown",
      "source": [
        "## Pré-Processamento:"
      ],
      "metadata": {
        "id": "OrE1R_Sbm4SK"
      }
    },
    {
      "cell_type": "markdown",
      "source": [
        "### Clonando Imagem (Futura Comparação):\n",
        "\n"
      ],
      "metadata": {
        "id": "Q2rOuW0UhITg"
      }
    },
    {
      "cell_type": "code",
      "source": [
        "compara = im.copy()\n",
        "cv2_imshow(im)"
      ],
      "metadata": {
        "colab": {
          "base_uri": "https://localhost:8080/",
          "height": 102
        },
        "id": "4tKeia9PhLWC",
        "outputId": "c41d24f5-aade-4a26-dc9a-3abc651c1237"
      },
      "execution_count": 6,
      "outputs": [
        {
          "output_type": "display_data",
          "data": {
            "text/plain": [
              "<PIL.Image.Image image mode=RGB size=127x85 at 0x7F0491B6FF90>"
            ],
            "image/png": "[encoded data removed]"
          },
          "metadata": {}
        }
      ]
    },
    {
      "cell_type": "markdown",
      "source": [
        "### Split dos canais da imagem:"
      ],
      "metadata": {
        "id": "W7DcstDCc_vQ"
      }
    },
    {
      "cell_type": "code",
      "source": [
        "im_split_channels = cv.split(im)\n",
        "\n",
        "(B, G, R) = cv.split(im)\n",
        "#cv2_imshow(cv.hconcat([R, G, B]))"
      ],
      "metadata": {
        "id": "fWGOv8ezdD9K"
      },
      "execution_count": 7,
      "outputs": []
    },
    {
      "cell_type": "code",
      "source": [
        "Azul = B # Melhor canal de cor para o processamento\n",
        "#cv2_imshow(Azul)"
      ],
      "metadata": {
        "id": "4hTzYCVRoP67"
      },
      "execution_count": 8,
      "outputs": []
    },
    {
      "cell_type": "markdown",
      "source": [
        "### Histograma:"
      ],
      "metadata": {
        "id": "d6Z2mfFdI9hX"
      }
    },
    {
      "cell_type": "code",
      "source": [
        "# numero de bins do histograma\n",
        "hist_size = 256\n",
        "\n",
        "# faixa de valores de cada canal\n",
        "hist_range = (0, 256) #0-255 (8 bits)\n",
        "accumulate = False\n",
        "\n",
        "color = ('b','g','r') #h, s, v\n",
        "\n",
        "for i,col in enumerate(color):\n",
        "\n",
        "    histr = cv.calcHist(im_split_channels,[i],None, [hist_size], hist_range, accumulate=accumulate)\n",
        "\n",
        "    plt.plot(histr, color = col)\n",
        "\n",
        "    plt.xlim([0,256])\n",
        "\n",
        "    \n",
        "plt.show()"
      ],
      "metadata": {
        "colab": {
          "base_uri": "https://localhost:8080/",
          "height": 265
        },
        "id": "TZR0Z1GSoyl6",
        "outputId": "67018adf-39f9-460a-9a6e-f87118018b3a"
      },
      "execution_count": 9,
      "outputs": [
        {
          "output_type": "display_data",
          "data": {
            "text/plain": [
              "<Figure size 432x288 with 1 Axes>"
            ],
            "image/png": "[encoded data removed]"
          },
          "metadata": {
            "needs_background": "light"
          }
        }
      ]
    },
    {
      "cell_type": "markdown",
      "source": [
        "### Threshold:"
      ],
      "metadata": {
        "id": "cXoryA3inFpx"
      }
    },
    {
      "cell_type": "markdown",
      "source": [
        "Limiarização - Usando a técnica de Otsu"
      ],
      "metadata": {
        "id": "DUjRQf0UJ_In"
      }
    },
    {
      "cell_type": "code",
      "source": [
        "ret, thresh = cv.threshold(Azul, 0, 255, cv.THRESH_BINARY + cv.THRESH_OTSU)\n",
        "cv2_imshow(thresh)"
      ],
      "metadata": {
        "colab": {
          "base_uri": "https://localhost:8080/",
          "height": 102
        },
        "id": "r0TZsRzl8-Du",
        "outputId": "3a2b07bb-a975-42bb-ec67-ed845414705b"
      },
      "execution_count": 10,
      "outputs": [
        {
          "output_type": "display_data",
          "data": {
            "text/plain": [
              "<PIL.Image.Image image mode=L size=127x85 at 0x7F0491AFBC90>"
            ],
            "image/png": "[encoded data removed]"
          },
          "metadata": {}
        }
      ]
    },
    {
      "cell_type": "markdown",
      "source": [
        "### Buscando Contornos:"
      ],
      "metadata": {
        "id": "_IJdypZ3XnYh"
      }
    },
    {
      "cell_type": "code",
      "source": [
        "#contours, hierarchy = cv.findContours(thresh, cv.RETR_TREE, cv.CHAIN_APPROX_SIMPLE)\n",
        "contours, hierarchy = cv.findContours(thresh, cv.RETR_EXTERNAL, cv.CHAIN_APPROX_SIMPLE)"
      ],
      "metadata": {
        "id": "fp51SrPPXYUR"
      },
      "execution_count": 11,
      "outputs": []
    },
    {
      "cell_type": "markdown",
      "source": [
        "### Retirando dados dos contornos:"
      ],
      "metadata": {
        "id": "nSY7BQQBd6ix"
      }
    },
    {
      "cell_type": "code",
      "source": [
        "rows, columns = thresh.shape\n",
        "areaImagem = rows*columns\n",
        "\n",
        "print('Dimensões da imagem:' + str(thresh.shape))\n",
        "print(\"Rows = \",rows)\n",
        "print(\"Columns = \", columns)"
      ],
      "metadata": {
        "id": "fWpIfVfpQJQm",
        "outputId": "a90929e1-97ce-4c7a-951f-fcb48ebea88b",
        "colab": {
          "base_uri": "https://localhost:8080/"
        }
      },
      "execution_count": 12,
      "outputs": [
        {
          "output_type": "stream",
          "name": "stdout",
          "text": [
            "Dimensões da imagem:(85, 127)\n",
            "Rows =  85\n",
            "Columns =  127\n"
          ]
        }
      ]
    },
    {
      "cell_type": "code",
      "source": [
        "areaOcupada = 0\n",
        "\n",
        "for qtd in range(len(contours)):\n",
        "  atual = cv.contourArea(contours[qtd])\n",
        "  areaOcupada = areaOcupada + atual\n",
        "\n",
        "print(\"areaImagem = \", areaImagem)\n",
        "print ('Foram encontrados ' + str(len(contours)) + ' objetos com seus contornos')\n",
        "print('Area total ocupada: ' + str(areaOcupada))\n",
        "print('Relação infestação/área total: ' + str((areaOcupada/(rows*columns))*100) + ' %')\n",
        "\n",
        "cv.drawContours(im, contours, -1, (0,242,255), 2); #unico contorno 0\n",
        "#cv2_imshow(cv.hconcat([compara, im]))"
      ],
      "metadata": {
        "colab": {
          "base_uri": "https://localhost:8080/"
        },
        "id": "prS3iDWNumQp",
        "outputId": "dbd16c50-4596-4af3-c827-292adcc3f46f"
      },
      "execution_count": 13,
      "outputs": [
        {
          "output_type": "stream",
          "name": "stdout",
          "text": [
            "areaImagem =  10795\n",
            "Foram encontrados 3 objetos com seus contornos\n",
            "Area total ocupada: 1639.0\n",
            "Relação infestação/área total: 15.182955071792497 %\n"
          ]
        }
      ]
    },
    {
      "cell_type": "markdown",
      "source": [
        "### Laço: contours"
      ],
      "metadata": {
        "id": "fZXIQ1DaMZF1"
      }
    },
    {
      "cell_type": "code",
      "source": [
        "def extract_image(thresh, cnt):\n",
        "  # np.zeros: Cria uma matriz com determinadas dimensões\n",
        "  im_blank = np.zeros(im.shape, np.uint8) \n",
        "\n",
        "  cv.drawContours(im_blank, [cnt], -1, 255, -1)\n",
        "\n",
        "  mask = im_blank == 255\n",
        "\n",
        "  im_filter = im[mask]\n",
        "\n",
        "  return im_filter"
      ],
      "metadata": {
        "id": "lSkL9W1P9ZXr"
      },
      "execution_count": 14,
      "outputs": []
    },
    {
      "cell_type": "code",
      "source": [
        "areas = []\n",
        "perimeters = []\n",
        "centroids_x = []\n",
        "centroids_y = []\n",
        "aspect_ratio = [] #It is the ratio of width to height of bounding rect of the object.\n",
        "extent = [] #Extent is the ratio of contour area to bounding rectangle area.\n",
        "solidity = [] #Solidity is the ratio of contour area to its convex hull area.\n",
        "equivalent_diameter = [] #Equivalent Diameter is the diameter of the circle whose area is same as the contour area.\n",
        "r_mean = []\n",
        "r_min = []\n",
        "r_max = []\n",
        "r_std = []\n",
        "g_mean = []\n",
        "g_min = []\n",
        "g_max = []\n",
        "g_std = []\n",
        "b_mean = []\n",
        "b_min = []\n",
        "b_max = []\n",
        "b_std = []\n",
        "width = []\n",
        "height = []\n",
        "angle = []\n",
        "radius = []\n",
        "\n",
        "\n",
        "im_split_channels = cv.split(im)\n",
        "album = [] \n",
        "\n",
        "for c in contours:\n",
        "    M = cv.moments(c)\n",
        "    \n",
        "    areas.append(M['m00'])\n",
        "    perimeters.append(cv.arcLength(c,True)) #if not convex, False\n",
        "    \n",
        "    x,y,w,h = cv.boundingRect(c)\n",
        "    aspect_ratio.append(float(w)/h)\n",
        "    width.append(w)\n",
        "    height.append(h)\n",
        "    rect = cv.minAreaRect(c)\n",
        "    circle = cv.minEnclosingCircle(c)\n",
        "    angle.append(rect[2])\n",
        "    radius.append(circle[1])\n",
        "    \n",
        "    rect_area = w*h\n",
        "    if rect_area > 0:\n",
        "        extent.append(M['m00']/rect_area)\n",
        "    else: \n",
        "        extent.append(0)\n",
        "    \n",
        "    hull = cv.convexHull(c)\n",
        "    hull_area = cv.contourArea(hull)\n",
        "    if hull_area > 0:\n",
        "        solidity.append(M['m00']/hull_area)\n",
        "    else:\n",
        "        solidity.append(0)\n",
        "    \n",
        "    equivalent_diameter = np.sqrt(4*M['m00']/np.pi)\n",
        "    \n",
        "    if M['m00'] != 0:\n",
        "        centroids_x.append(M['m10']/M['m00'])\n",
        "        centroids_y.append(M['m01']/M['m00'])\n",
        "    else:\n",
        "        centroids_x.append(0)\n",
        "        centroids_y.append(0)\n",
        "        \n",
        "    r = extract_image(im_split_channels[2], c)\n",
        "    g = extract_image(im_split_channels[1], c)\n",
        "    b = extract_image(im_split_channels[0], c)\n",
        "    \n",
        "    r_mean.append(np.mean(r))\n",
        "    r_max.append(np.max(r))\n",
        "    r_min.append(np.min(r))\n",
        "    r_std.append(np.std(r))\n",
        "    g_mean.append(np.mean(g))\n",
        "    g_max.append(np.max(g))\n",
        "    g_min.append(np.min(g))\n",
        "    g_std.append(np.std(g))\n",
        "    b_mean.append(np.mean(b))\n",
        "    b_max.append(np.max(b))\n",
        "    b_min.append(np.min(b))\n",
        "    b_std.append(np.std(b))\n"
      ],
      "metadata": {
        "id": "ZnfzisLz-k3o"
      },
      "execution_count": 15,
      "outputs": []
    },
    {
      "cell_type": "markdown",
      "source": [
        "### Agrupamentos de Features:"
      ],
      "metadata": {
        "id": "G7O3pnkmaAPg"
      }
    },
    {
      "cell_type": "code",
      "source": [
        "#features = [areas, perimeters, aspect_ratio, extent, solidity, equivalent_diameter]\n",
        "\n",
        "#interest_area_contours = sum(areas)/total_area\n",
        "#print(interest_area_contours)\n",
        "\n",
        "#d = {'area': areas, 'perimiter': perimeters}\n",
        "#d = {'centroid_x': centroids_x, 'centroid_y': centroids_y, 'area': areas, 'perimiter': perimeters}\n",
        "features_1 = {'area': areas, 'perimiter': perimeters, 'aspect_ratio': aspect_ratio, \n",
        "            'extent': extent, 'solidity': solidity, 'equivalent_diameter': equivalent_diameter,\n",
        "            'r_mean': r_mean, 'r_max': r_max, 'r_min': r_min, 'r_std': r_std,\n",
        "            'g_mean': g_mean, 'g_max': g_max, 'g_min': g_min, 'g_std': g_std,\n",
        "            'b_mean': b_mean, 'b_max': b_max, 'b_min': b_min, 'b_std': b_std,\n",
        "            'width': width, 'height': height, 'angle': angle, 'radius': radius\n",
        "}\n",
        "\n",
        "features_2 = {'area': areas, 'perimiter': perimeters, 'aspect_ratio': aspect_ratio, \n",
        "            'extent': extent, 'solidity': solidity, 'equivalent_diameter': equivalent_diameter\n",
        "}\n",
        "\n",
        "features_3 = {'r_mean': r_mean, 'r_max': r_max, 'r_min': r_min, 'r_std': r_std,\n",
        "            'g_mean': g_mean, 'g_max': g_max, 'g_min': g_min, 'g_std': g_std,\n",
        "            'b_mean': b_mean, 'b_max': b_max, 'b_min': b_min, 'b_std': b_std\n",
        "}\n",
        "\n",
        "features_4 = {'r_mean': r_mean, 'g_mean': g_mean, 'b_mean': b_mean}\n",
        "\n",
        "features_5 = {'r_mean': r_mean, 'g_mean': g_mean, 'b_mean': b_mean,\n",
        "             'area': areas, 'perimiter': perimeters, 'aspect_ratio': aspect_ratio, \n",
        "             'extent': extent, 'solidity': solidity, 'equivalent_diameter': equivalent_diameter\n",
        "}\n",
        "\n",
        "features_6 = {'r_mean': r_mean, 'r_max': r_max, 'r_min': r_min, 'r_std': r_std,\n",
        "            'g_mean': g_mean, 'g_max': g_max, 'g_min': g_min, 'g_std': g_std,\n",
        "            'b_mean': b_mean, 'b_max': b_max, 'b_min': b_min, 'b_std': b_std,\n",
        "             'extent': extent, 'solidity': solidity, 'equivalent_diameter': equivalent_diameter \n",
        "}\n",
        "\n",
        "features_7 = {'r_mean': r_mean, 'r_max': r_max, 'r_min': r_min, 'r_std': r_std,\n",
        "            'g_mean': g_mean, 'g_max': g_max, 'g_min': g_min, 'g_std': g_std,\n",
        "            'b_mean': b_mean, 'b_max': b_max, 'b_min': b_min, 'b_std': b_std,\n",
        "             'extent': extent, 'solidity': solidity \n",
        "}\n",
        "\n",
        "features_8 = {'r_mean': r_mean, 'r_max': r_max, 'r_min': r_min, 'r_std': r_std,\n",
        "            'g_mean': g_mean, 'g_max': g_max, 'g_min': g_min, 'g_std': g_std,\n",
        "            'b_mean': b_mean, 'b_max': b_max, 'b_min': b_min, 'b_std': b_std,\n",
        "             'extent': extent, 'equivalent_diameter': equivalent_diameter, 'perimiter': perimeters\n",
        "}\n",
        "\n",
        "features_9 = {'r_mean': r_mean, 'r_max': r_max, 'r_min': r_min, 'r_std': r_std,\n",
        "            'g_mean': g_mean, 'g_max': g_max, 'g_min': g_min, 'g_std': g_std,\n",
        "            'b_mean': b_mean, 'b_max': b_max, 'b_min': b_min, 'b_std': b_std,\n",
        "             'solidity': solidity , 'equivalent_diameter': equivalent_diameter \n",
        "}\n",
        "\n",
        "features_10 = {'r_max': r_max, 'g_max': g_max, 'b_max': b_max,\n",
        "             'solidity': solidity , 'equivalent_diameter': equivalent_diameter \n",
        "}\n",
        "\n",
        "features_11 = {'r_max': r_max, 'g_max': g_max, 'b_max': b_max,\n",
        "               'r_min': r_min, 'g_min': g_min, 'b_min': b_min,\n",
        "             'solidity': solidity , 'equivalent_diameter': equivalent_diameter \n",
        "}"
      ],
      "metadata": {
        "id": "MeDa2gDIaEtQ"
      },
      "execution_count": 16,
      "outputs": []
    },
    {
      "cell_type": "markdown",
      "source": [
        "## Processamento dos Dados:"
      ],
      "metadata": {
        "id": "_R435UNFLMMu"
      }
    },
    {
      "cell_type": "code",
      "source": [
        "# df = pd.DataFrame(features_1)     \n",
        "\n",
        "# df = pd.DataFrame(features_2)     \n",
        "\n",
        "df = pd.DataFrame(features_3)   # Conjunto de features padrão  \n",
        "\n",
        "# df = pd.DataFrame(features_4)     \n",
        "\n",
        "# df = pd.DataFrame(features_5)     \n",
        "\n",
        "# df = pd.DataFrame(features_6)    \n",
        "\n",
        "# df = pd.DataFrame(features_7)     \n",
        "\n",
        "# df = pd.DataFrame(features_8)    \n",
        "\n",
        "# df = pd.DataFrame(features_9)  \n",
        "   \n",
        "# df = pd.DataFrame(features_10)  \n",
        "\n",
        "# df = pd.DataFrame(features_11)    "
      ],
      "metadata": {
        "id": "AcZbMbic-_fl"
      },
      "execution_count": 17,
      "outputs": []
    },
    {
      "cell_type": "code",
      "source": [
        "# df"
      ],
      "metadata": {
        "id": "ZOmmm_F3g_KC"
      },
      "execution_count": 18,
      "outputs": []
    },
    {
      "cell_type": "code",
      "source": [
        "df.describe()"
      ],
      "metadata": {
        "id": "iOSatE0pZnAJ",
        "outputId": "f5a4c6da-8333-43af-b87b-0edff202a1e7",
        "colab": {
          "base_uri": "https://localhost:8080/",
          "height": 300
        }
      },
      "execution_count": 19,
      "outputs": [
        {
          "output_type": "execute_result",
          "data": {
            "text/plain": [
              "           r_mean      r_max  r_min      r_std      g_mean      g_max  g_min  \\\n",
              "count    3.000000   3.000000    3.0   3.000000    3.000000   3.000000    3.0   \n",
              "mean    54.004566  -9.000000    0.0  26.034250   54.004566  -9.000000    0.0   \n",
              "std     93.538653  15.588457    0.0  45.092644   93.538653  15.588457    0.0   \n",
              "min      0.000000 -27.000000    0.0   0.000000    0.000000 -27.000000    0.0   \n",
              "25%      0.000000 -13.500000    0.0   0.000000    0.000000 -13.500000    0.0   \n",
              "50%      0.000000   0.000000    0.0   0.000000    0.000000   0.000000    0.0   \n",
              "75%     81.006849   0.000000    0.0  39.051376   81.006849   0.000000    0.0   \n",
              "max    162.013699   0.000000    0.0  78.102751  162.013699   0.000000    0.0   \n",
              "\n",
              "           g_std      b_mean      b_max  b_min      b_std  \n",
              "count   3.000000    3.000000   3.000000    3.0   3.000000  \n",
              "mean   26.034250   54.004566  -9.000000    0.0  26.034250  \n",
              "std    45.092644   93.538653  15.588457    0.0  45.092644  \n",
              "min     0.000000    0.000000 -27.000000    0.0   0.000000  \n",
              "25%     0.000000    0.000000 -13.500000    0.0   0.000000  \n",
              "50%     0.000000    0.000000   0.000000    0.0   0.000000  \n",
              "75%    39.051376   81.006849   0.000000    0.0  39.051376  \n",
              "max    78.102751  162.013699   0.000000    0.0  78.102751  "
            ],
            "text/html": [
              "\n",
              "  <div id=\"df-d7058ce2-9807-450d-920e-0ce20c4010ce\">\n",
              "    <div class=\"colab-df-container\">\n",
              "      <div>\n",
              "<style scoped>\n",
              "    .dataframe tbody tr th:only-of-type {\n",
              "        vertical-align: middle;\n",
              "    }\n",
              "\n",
              "    .dataframe tbody tr th {\n",
              "        vertical-align: top;\n",
              "    }\n",
              "\n",
              "    .dataframe thead th {\n",
              "        text-align: right;\n",
              "    }\n",
              "</style>\n",
              "<table border=\"1\" class=\"dataframe\">\n",
              "  <thead>\n",
              "    <tr style=\"text-align: right;\">\n",
              "      <th></th>\n",
              "      <th>r_mean</th>\n",
              "      <th>r_max</th>\n",
              "      <th>r_min</th>\n",
              "      <th>r_std</th>\n",
              "      <th>g_mean</th>\n",
              "      <th>g_max</th>\n",
              "      <th>g_min</th>\n",
              "      <th>g_std</th>\n",
              "      <th>b_mean</th>\n",
              "      <th>b_max</th>\n",
              "      <th>b_min</th>\n",
              "      <th>b_std</th>\n",
              "    </tr>\n",
              "  </thead>\n",
              "  <tbody>\n",
              "    <tr>\n",
              "      <th>count</th>\n",
              "      <td>3.000000</td>\n",
              "      <td>3.000000</td>\n",
              "      <td>3.0</td>\n",
              "      <td>3.000000</td>\n",
              "      <td>3.000000</td>\n",
              "      <td>3.000000</td>\n",
              "      <td>3.0</td>\n",
              "      <td>3.000000</td>\n",
              "      <td>3.000000</td>\n",
              "      <td>3.000000</td>\n",
              "      <td>3.0</td>\n",
              "      <td>3.000000</td>\n",
              "    </tr>\n",
              "    <tr>\n",
              "      <th>mean</th>\n",
              "      <td>54.004566</td>\n",
              "      <td>-9.000000</td>\n",
              "      <td>0.0</td>\n",
              "      <td>26.034250</td>\n",
              "      <td>54.004566</td>\n",
              "      <td>-9.000000</td>\n",
              "      <td>0.0</td>\n",
              "      <td>26.034250</td>\n",
              "      <td>54.004566</td>\n",
              "      <td>-9.000000</td>\n",
              "      <td>0.0</td>\n",
              "      <td>26.034250</td>\n",
              "    </tr>\n",
              "    <tr>\n",
              "      <th>std</th>\n",
              "      <td>93.538653</td>\n",
              "      <td>15.588457</td>\n",
              "      <td>0.0</td>\n",
              "      <td>45.092644</td>\n",
              "      <td>93.538653</td>\n",
              "      <td>15.588457</td>\n",
              "      <td>0.0</td>\n",
              "      <td>45.092644</td>\n",
              "      <td>93.538653</td>\n",
              "      <td>15.588457</td>\n",
              "      <td>0.0</td>\n",
              "      <td>45.092644</td>\n",
              "    </tr>\n",
              "    <tr>\n",
              "      <th>min</th>\n",
              "      <td>0.000000</td>\n",
              "      <td>-27.000000</td>\n",
              "      <td>0.0</td>\n",
              "      <td>0.000000</td>\n",
              "      <td>0.000000</td>\n",
              "      <td>-27.000000</td>\n",
              "      <td>0.0</td>\n",
              "      <td>0.000000</td>\n",
              "      <td>0.000000</td>\n",
              "      <td>-27.000000</td>\n",
              "      <td>0.0</td>\n",
              "      <td>0.000000</td>\n",
              "    </tr>\n",
              "    <tr>\n",
              "      <th>25%</th>\n",
              "      <td>0.000000</td>\n",
              "      <td>-13.500000</td>\n",
              "      <td>0.0</td>\n",
              "      <td>0.000000</td>\n",
              "      <td>0.000000</td>\n",
              "      <td>-13.500000</td>\n",
              "      <td>0.0</td>\n",
              "      <td>0.000000</td>\n",
              "      <td>0.000000</td>\n",
              "      <td>-13.500000</td>\n",
              "      <td>0.0</td>\n",
              "      <td>0.000000</td>\n",
              "    </tr>\n",
              "    <tr>\n",
              "      <th>50%</th>\n",
              "      <td>0.000000</td>\n",
              "      <td>0.000000</td>\n",
              "      <td>0.0</td>\n",
              "      <td>0.000000</td>\n",
              "      <td>0.000000</td>\n",
              "      <td>0.000000</td>\n",
              "      <td>0.0</td>\n",
              "      <td>0.000000</td>\n",
              "      <td>0.000000</td>\n",
              "      <td>0.000000</td>\n",
              "      <td>0.0</td>\n",
              "      <td>0.000000</td>\n",
              "    </tr>\n",
              "    <tr>\n",
              "      <th>75%</th>\n",
              "      <td>81.006849</td>\n",
              "      <td>0.000000</td>\n",
              "      <td>0.0</td>\n",
              "      <td>39.051376</td>\n",
              "      <td>81.006849</td>\n",
              "      <td>0.000000</td>\n",
              "      <td>0.0</td>\n",
              "      <td>39.051376</td>\n",
              "      <td>81.006849</td>\n",
              "      <td>0.000000</td>\n",
              "      <td>0.0</td>\n",
              "      <td>39.051376</td>\n",
              "    </tr>\n",
              "    <tr>\n",
              "      <th>max</th>\n",
              "      <td>162.013699</td>\n",
              "      <td>0.000000</td>\n",
              "      <td>0.0</td>\n",
              "      <td>78.102751</td>\n",
              "      <td>162.013699</td>\n",
              "      <td>0.000000</td>\n",
              "      <td>0.0</td>\n",
              "      <td>78.102751</td>\n",
              "      <td>162.013699</td>\n",
              "      <td>0.000000</td>\n",
              "      <td>0.0</td>\n",
              "      <td>78.102751</td>\n",
              "    </tr>\n",
              "  </tbody>\n",
              "</table>\n",
              "</div>\n",
              "      <button class=\"colab-df-convert\" onclick=\"convertToInteractive('df-d7058ce2-9807-450d-920e-0ce20c4010ce')\"\n",
              "              title=\"Convert this dataframe to an interactive table.\"\n",
              "              style=\"display:none;\">\n",
              "        \n",
              "  <svg xmlns=\"http://www.w3.org/2000/svg\" height=\"24px\"viewBox=\"0 0 24 24\"\n",
              "       width=\"24px\">\n",
              "    <path d=\"M0 0h24v24H0V0z\" fill=\"none\"/>\n",
              "    <path d=\"M18.56 5.44l.94 2.06.94-2.06 2.06-.94-2.06-.94-.94-2.06-.94 2.06-2.06.94zm-11 1L8.5 8.5l.94-2.06 2.06-.94-2.06-.94L8.5 2.5l-.94 2.06-2.06.94zm10 10l.94 2.06.94-2.06 2.06-.94-2.06-.94-.94-2.06-.94 2.06-2.06.94z\"/><path d=\"M17.41 7.96l-1.37-1.37c-.4-.4-.92-.59-1.43-.59-.52 0-1.04.2-1.43.59L10.3 9.45l-7.72 7.72c-.78.78-.78 2.05 0 2.83L4 21.41c.39.39.9.59 1.41.59.51 0 1.02-.2 1.41-.59l7.78-7.78 2.81-2.81c.8-.78.8-2.07 0-2.86zM5.41 20L4 18.59l7.72-7.72 1.47 1.35L5.41 20z\"/>\n",
              "  </svg>\n",
              "      </button>\n",
              "      \n",
              "  <style>\n",
              "    .colab-df-container {\n",
              "      display:flex;\n",
              "      flex-wrap:wrap;\n",
              "      gap: 12px;\n",
              "    }\n",
              "\n",
              "    .colab-df-convert {\n",
              "      background-color: #E8F0FE;\n",
              "      border: none;\n",
              "      border-radius: 50%;\n",
              "      cursor: pointer;\n",
              "      display: none;\n",
              "      fill: #1967D2;\n",
              "      height: 32px;\n",
              "      padding: 0 0 0 0;\n",
              "      width: 32px;\n",
              "    }\n",
              "\n",
              "    .colab-df-convert:hover {\n",
              "      background-color: #E2EBFA;\n",
              "      box-shadow: 0px 1px 2px rgba(60, 64, 67, 0.3), 0px 1px 3px 1px rgba(60, 64, 67, 0.15);\n",
              "      fill: #174EA6;\n",
              "    }\n",
              "\n",
              "    [theme=dark] .colab-df-convert {\n",
              "      background-color: #3B4455;\n",
              "      fill: #D2E3FC;\n",
              "    }\n",
              "\n",
              "    [theme=dark] .colab-df-convert:hover {\n",
              "      background-color: #434B5C;\n",
              "      box-shadow: 0px 1px 3px 1px rgba(0, 0, 0, 0.15);\n",
              "      filter: drop-shadow(0px 1px 2px rgba(0, 0, 0, 0.3));\n",
              "      fill: #FFFFFF;\n",
              "    }\n",
              "  </style>\n",
              "\n",
              "      <script>\n",
              "        const buttonEl =\n",
              "          document.querySelector('#df-d7058ce2-9807-450d-920e-0ce20c4010ce button.colab-df-convert');\n",
              "        buttonEl.style.display =\n",
              "          google.colab.kernel.accessAllowed ? 'block' : 'none';\n",
              "\n",
              "        async function convertToInteractive(key) {\n",
              "          const element = document.querySelector('#df-d7058ce2-9807-450d-920e-0ce20c4010ce');\n",
              "          const dataTable =\n",
              "            await google.colab.kernel.invokeFunction('convertToInteractive',\n",
              "                                                     [key], {});\n",
              "          if (!dataTable) return;\n",
              "\n",
              "          const docLinkHtml = 'Like what you see? Visit the ' +\n",
              "            '<a target=\"_blank\" href=https://colab.research.google.com/notebooks/data_table.ipynb>data table notebook</a>'\n",
              "            + ' to learn more about interactive tables.';\n",
              "          element.innerHTML = '';\n",
              "          dataTable['output_type'] = 'display_data';\n",
              "          await google.colab.output.renderOutput(dataTable, element);\n",
              "          const docLink = document.createElement('div');\n",
              "          docLink.innerHTML = docLinkHtml;\n",
              "          element.appendChild(docLink);\n",
              "        }\n",
              "      </script>\n",
              "    </div>\n",
              "  </div>\n",
              "  "
            ]
          },
          "metadata": {},
          "execution_count": 19
        }
      ]
    },
    {
      "cell_type": "code",
      "source": [
        "df.info()"
      ],
      "metadata": {
        "id": "nMIUtjBIBDlf",
        "outputId": "683d29d8-e902-4d17-eec0-b05b1f57c44f",
        "colab": {
          "base_uri": "https://localhost:8080/"
        }
      },
      "execution_count": 20,
      "outputs": [
        {
          "output_type": "stream",
          "name": "stdout",
          "text": [
            "<class 'pandas.core.frame.DataFrame'>\n",
            "RangeIndex: 3 entries, 0 to 2\n",
            "Data columns (total 12 columns):\n",
            " #   Column  Non-Null Count  Dtype  \n",
            "---  ------  --------------  -----  \n",
            " 0   r_mean  3 non-null      float64\n",
            " 1   r_max   3 non-null      int8   \n",
            " 2   r_min   3 non-null      int8   \n",
            " 3   r_std   3 non-null      float64\n",
            " 4   g_mean  3 non-null      float64\n",
            " 5   g_max   3 non-null      int8   \n",
            " 6   g_min   3 non-null      int8   \n",
            " 7   g_std   3 non-null      float64\n",
            " 8   b_mean  3 non-null      float64\n",
            " 9   b_max   3 non-null      int8   \n",
            " 10  b_min   3 non-null      int8   \n",
            " 11  b_std   3 non-null      float64\n",
            "dtypes: float64(6), int8(6)\n",
            "memory usage: 290.0 bytes\n"
          ]
        }
      ]
    },
    {
      "cell_type": "markdown",
      "source": [
        "## Kmeans:"
      ],
      "metadata": {
        "id": "q-tscEuGLQYe"
      }
    },
    {
      "cell_type": "code",
      "source": [
        "n_clusters = 3\n",
        "\n",
        "kmeans = KMeans(n_clusters=n_clusters, init='k-means++', n_init=10, algorithm='full') #auto, full, elkan\n",
        "kmeans.fit(df) # Metodo fit"
      ],
      "metadata": {
        "colab": {
          "base_uri": "https://localhost:8080/"
        },
        "id": "__quggphbGAX",
        "outputId": "40e4dd6a-d012-46a4-bc76-fa7bd0073819"
      },
      "execution_count": 21,
      "outputs": [
        {
          "output_type": "stream",
          "name": "stderr",
          "text": [
            "/usr/local/lib/python3.7/dist-packages/ipykernel_launcher.py:4: ConvergenceWarning: Number of distinct clusters (2) found smaller than n_clusters (3). Possibly due to duplicate points in X.\n",
            "  after removing the cwd from sys.path.\n"
          ]
        },
        {
          "output_type": "execute_result",
          "data": {
            "text/plain": [
              "KMeans(algorithm='full', n_clusters=3)"
            ]
          },
          "metadata": {},
          "execution_count": 21
        }
      ]
    },
    {
      "cell_type": "code",
      "source": [
        "conts = [[],[],[],[]] #contour list\n",
        "\n",
        "for cont, cnt in enumerate(contours):\n",
        "    class_ = kmeans.predict([df.iloc[cont]])[0]\n",
        "    conts[class_].append(cnt)\n",
        "    \n",
        "if n_clusters == 3:\n",
        "    im = cv.drawContours(im, conts[0], -1, (200, 120, 0), thickness=2) # Azul\n",
        "    im = cv.drawContours(im, conts[1], -1, (20, 150, 232), thickness=2) # Laranja\n",
        "    im = cv.drawContours(im, conts[2], -1, (82, 184, 10), thickness=2) # Verde\n",
        "elif n_clusters == 2:\n",
        "    im = cv.drawContours(im, conts[0], -1, (20, 150, 232), thickness=2)\n",
        "    im = cv.drawContours(im, conts[1], -1, (82, 184, 10), thickness=2)"
      ],
      "metadata": {
        "colab": {
          "base_uri": "https://localhost:8080/"
        },
        "id": "Wq4UyDhekYnE",
        "outputId": "0162a994-fa4a-41fc-d68d-0d92e1275fbf"
      },
      "execution_count": 22,
      "outputs": [
        {
          "output_type": "stream",
          "name": "stderr",
          "text": [
            "/usr/local/lib/python3.7/dist-packages/sklearn/base.py:451: UserWarning: X does not have valid feature names, but KMeans was fitted with feature names\n",
            "  \"X does not have valid feature names, but\"\n",
            "/usr/local/lib/python3.7/dist-packages/sklearn/base.py:451: UserWarning: X does not have valid feature names, but KMeans was fitted with feature names\n",
            "  \"X does not have valid feature names, but\"\n",
            "/usr/local/lib/python3.7/dist-packages/sklearn/base.py:451: UserWarning: X does not have valid feature names, but KMeans was fitted with feature names\n",
            "  \"X does not have valid feature names, but\"\n"
          ]
        }
      ]
    },
    {
      "cell_type": "code",
      "source": [
        "print('class 0: ' + str(len(conts[0])) + ' individuals')\n",
        "print('class 1: ' + str(len(conts[1])) + ' individuals')\n",
        "print('class 2: ' + str(len(conts[2])) + ' individuals')\n",
        "print('class 3: ' + str(len(conts[3])) + ' individuals')\n",
        "\n",
        "cv2_imshow(cv.hconcat([compara, im]))"
      ],
      "metadata": {
        "id": "iPyfXgPzfg0W",
        "outputId": "6671cbb2-e7ca-4c98-b784-71370ea3b132",
        "colab": {
          "base_uri": "https://localhost:8080/",
          "height": 171
        }
      },
      "execution_count": 23,
      "outputs": [
        {
          "output_type": "stream",
          "name": "stdout",
          "text": [
            "class 0: 2 individuals\n",
            "class 1: 1 individuals\n",
            "class 2: 0 individuals\n",
            "class 3: 0 individuals\n"
          ]
        },
        {
          "output_type": "display_data",
          "data": {
            "text/plain": [
              "<PIL.Image.Image image mode=RGB size=254x85 at 0x7F048E4DD190>"
            ],
            "image/png": "[encoded data removed]"
          },
          "metadata": {}
        }
      ]
    }
  ]
}